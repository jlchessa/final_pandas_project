{
 "cells": [
  {
   "cell_type": "code",
   "execution_count": 1,
   "id": "e8caa87d",
   "metadata": {},
   "outputs": [],
   "source": [
    "import pandas as pd"
   ]
  },
  {
   "cell_type": "markdown",
   "id": "0489d162",
   "metadata": {},
   "source": [
    "Task 1: Inspect the DataFrames using print and head:"
   ]
  },
  {
   "cell_type": "code",
   "execution_count": 3,
   "id": "2ec2b7b3",
   "metadata": {},
   "outputs": [],
   "source": [
    "visits = pd.read_csv(r'C:\\Users\\RENOVO\\Desktop\\Codes\\Page_Visits_Funnel_Project\\visits.csv', parse_dates=[1])\n",
    "cart = pd.read_csv(r'C:\\Users\\RENOVO\\Desktop\\Codes\\Page_Visits_Funnel_Project\\cart.csv', parse_dates=[1])\n",
    "checkout = pd.read_csv(r'C:\\Users\\RENOVO\\Desktop\\Codes\\Page_Visits_Funnel_Project\\checkout.csv', parse_dates=[1])\n",
    "purchase = pd.read_csv(r'C:\\Users\\RENOVO\\Desktop\\Codes\\Page_Visits_Funnel_Project\\purchase.csv', parse_dates=[1])\n"
   ]
  },
  {
   "cell_type": "code",
   "execution_count": 4,
   "id": "e45c14a7",
   "metadata": {},
   "outputs": [
    {
     "name": "stdout",
     "output_type": "stream",
     "text": [
      "                                user_id          visit_time\n",
      "0  943647ef-3682-4750-a2e1-918ba6f16188 2017-04-07 15:14:00\n",
      "1  0c3a3dd0-fb64-4eac-bf84-ba069ce409f2 2017-01-26 14:24:00\n",
      "2  6e0b2d60-4027-4d9a-babd-0e7d40859fb1 2017-08-20 08:23:00\n",
      "3  6879527e-c5a6-4d14-b2da-50b85212b0ab 2017-11-04 18:15:00\n",
      "4  a84327ff-5daa-4ba1-b789-d5b4caf81e96 2017-02-27 11:25:00\n"
     ]
    }
   ],
   "source": [
    "print(visits.head())"
   ]
  },
  {
   "cell_type": "code",
   "execution_count": 5,
   "id": "314023a2",
   "metadata": {},
   "outputs": [
    {
     "name": "stdout",
     "output_type": "stream",
     "text": [
      "                                user_id           cart_time\n",
      "0  2be90e7c-9cca-44e0-bcc5-124b945ff168 2017-11-07 20:45:00\n",
      "1  4397f73f-1da3-4ab3-91af-762792e25973 2017-05-27 01:35:00\n",
      "2  a9db3d4b-0a0a-4398-a55a-ebb2c7adf663 2017-03-04 10:38:00\n",
      "3  b594862a-36c5-47d5-b818-6e9512b939b3 2017-09-27 08:22:00\n",
      "4  a68a16e2-94f0-4ce8-8ce3-784af0bbb974 2017-07-26 15:48:00\n"
     ]
    }
   ],
   "source": [
    "print(cart.head())"
   ]
  },
  {
   "cell_type": "code",
   "execution_count": 6,
   "id": "9abb6ef7",
   "metadata": {},
   "outputs": [
    {
     "name": "stdout",
     "output_type": "stream",
     "text": [
      "                                user_id       checkout_time\n",
      "0  d33bdc47-4afa-45bc-b4e4-dbe948e34c0d 2017-06-25 09:29:00\n",
      "1  4ac186f0-9954-4fea-8a27-c081e428e34e 2017-04-07 20:11:00\n",
      "2  3c9c78a7-124a-4b77-8d2e-e1926e011e7d 2017-07-13 11:38:00\n",
      "3  89fe330a-8966-4756-8f7c-3bdbcd47279a 2017-04-20 16:15:00\n",
      "4  3ccdaf69-2d30-40de-b083-51372881aedd 2017-01-08 20:52:00\n"
     ]
    }
   ],
   "source": [
    "print(checkout.head())"
   ]
  },
  {
   "cell_type": "code",
   "execution_count": 7,
   "id": "7ba37f8c",
   "metadata": {},
   "outputs": [
    {
     "name": "stdout",
     "output_type": "stream",
     "text": [
      "                                user_id       purchase_time\n",
      "0  4b44ace4-2721-47a0-b24b-15fbfa2abf85 2017-05-11 04:25:00\n",
      "1  02e684ae-a448-408f-a9ff-dcb4a5c99aac 2017-09-05 08:45:00\n",
      "2  4b4bc391-749e-4b90-ab8f-4f6e3c84d6dc 2017-11-20 20:49:00\n",
      "3  a5dbb25f-3c36-4103-9030-9f7c6241cd8d 2017-01-22 15:18:00\n",
      "4  46a3186d-7f5a-4ab9-87af-84d05bfd4867 2017-06-11 11:32:00\n"
     ]
    }
   ],
   "source": [
    "print(purchase.head())"
   ]
  },
  {
   "cell_type": "markdown",
   "id": "fd49de3b",
   "metadata": {},
   "source": [
    "Task 2 - Combine visits and cart using a left merge:"
   ]
  },
  {
   "cell_type": "code",
   "execution_count": 9,
   "id": "c7bd8f33",
   "metadata": {},
   "outputs": [],
   "source": [
    "visits_cart_left_merged =pd.merge(visits, cart, how='left')"
   ]
  },
  {
   "cell_type": "markdown",
   "id": "e3ff3eed",
   "metadata": {},
   "source": [
    "Task 3 - How long is your merged data frame?"
   ]
  },
  {
   "cell_type": "code",
   "execution_count": 11,
   "id": "63d1ed64",
   "metadata": {},
   "outputs": [
    {
     "name": "stdout",
     "output_type": "stream",
     "text": [
      "There are 2000 rows in the visits_cart_left_merged data frame.\n"
     ]
    }
   ],
   "source": [
    "print(f'There are {len(visits_cart_left_merged)} rows in the visits_cart_left_merged data frame.')"
   ]
  },
  {
   "cell_type": "markdown",
   "id": "eb7438ec",
   "metadata": {},
   "source": [
    "Task 4 - How many of the timestamps are null for the column cart_time?"
   ]
  },
  {
   "cell_type": "code",
   "execution_count": 13,
   "id": "ff54bfdd",
   "metadata": {},
   "outputs": [
    {
     "name": "stdout",
     "output_type": "stream",
     "text": [
      "There are 1652 null rows in the column cart_time\n"
     ]
    }
   ],
   "source": [
    "how_many_null = len(visits_cart_left_merged[visits_cart_left_merged.cart_time.isnull()])\n",
    "\n",
    "print(f'There are {how_many_null} null rows in the column cart_time')"
   ]
  },
  {
   "cell_type": "markdown",
   "id": "e9970a1b",
   "metadata": {},
   "source": [
    "Question: what do those null rows mean?"
   ]
  },
  {
   "cell_type": "markdown",
   "id": "538c5ffb",
   "metadata": {},
   "source": [
    "Answer: Those null rows mean how many times an user accessed the website but didn't put the products in the cart."
   ]
  },
  {
   "cell_type": "markdown",
   "id": "0e134b5d",
   "metadata": {},
   "source": [
    "Task 5 - What percent of users who visited Cool T-Shirts Inc. ended up not placing a t-shirt in their cart?"
   ]
  },
  {
   "cell_type": "code",
   "execution_count": 17,
   "id": "7e17f9d5",
   "metadata": {},
   "outputs": [
    {
     "name": "stdout",
     "output_type": "stream",
     "text": [
      "0.826% of the users did not put the product in the cart\n"
     ]
    }
   ],
   "source": [
    "visited_not_cart = float(how_many_null) / float(len(visits_cart_left_merged))\n",
    "\n",
    "print(f'{visited_not_cart}% of the users did not put the product in the cart')"
   ]
  },
  {
   "cell_type": "markdown",
   "id": "6fddabf1",
   "metadata": {},
   "source": [
    "Task 6 - Repeat the left merge for cart and checkout and count null values. \n",
    "What percentage of users put items in their cart, but did not proceed to checkout?"
   ]
  },
  {
   "cell_type": "code",
   "execution_count": 19,
   "id": "50467887",
   "metadata": {},
   "outputs": [],
   "source": [
    "cart_checkout = pd.merge(cart, checkout, how='left')"
   ]
  },
  {
   "cell_type": "code",
   "execution_count": 20,
   "id": "2615b026",
   "metadata": {},
   "outputs": [
    {
     "name": "stdout",
     "output_type": "stream",
     "text": [
      "0.35% of users put items in their carts but did not proceed to checkout.\n"
     ]
    }
   ],
   "source": [
    "cart_checkout_null = len(cart_checkout[cart_checkout.checkout_time.isnull()])\n",
    "\n",
    "cart_not_checkout_percentage = float(cart_checkout_null) / float(len(cart_checkout))\n",
    "\n",
    "print(f\"{round(cart_not_checkout_percentage, 2)}% of users put items in their carts but did not proceed to checkout.\")"
   ]
  },
  {
   "cell_type": "markdown",
   "id": "879cca8f",
   "metadata": {},
   "source": [
    "Task 7 - Merge all four steps of the funnel, in order, using a series of left merges. \n",
    "Save the results to the variable all_data.\n",
    "\n"
   ]
  },
  {
   "cell_type": "code",
   "execution_count": 22,
   "id": "3f58b990",
   "metadata": {},
   "outputs": [
    {
     "name": "stdout",
     "output_type": "stream",
     "text": [
      "                                user_id          visit_time  \\\n",
      "0  943647ef-3682-4750-a2e1-918ba6f16188 2017-04-07 15:14:00   \n",
      "1  0c3a3dd0-fb64-4eac-bf84-ba069ce409f2 2017-01-26 14:24:00   \n",
      "2  6e0b2d60-4027-4d9a-babd-0e7d40859fb1 2017-08-20 08:23:00   \n",
      "3  6879527e-c5a6-4d14-b2da-50b85212b0ab 2017-11-04 18:15:00   \n",
      "4  a84327ff-5daa-4ba1-b789-d5b4caf81e96 2017-02-27 11:25:00   \n",
      "\n",
      "            cart_time       checkout_time       purchase_time  \n",
      "0                 NaT                 NaT                 NaT  \n",
      "1 2017-01-26 14:44:00 2017-01-26 14:54:00 2017-01-26 15:08:00  \n",
      "2 2017-08-20 08:31:00                 NaT                 NaT  \n",
      "3                 NaT                 NaT                 NaT  \n",
      "4                 NaT                 NaT                 NaT  \n"
     ]
    }
   ],
   "source": [
    "all_data = visits_cart_left_merged.merge(cart_checkout, how ='left').merge(purchase, how='left')\n",
    "print(all_data.head())"
   ]
  },
  {
   "cell_type": "markdown",
   "id": "fe7b3f9e",
   "metadata": {},
   "source": [
    "Task 8 - What percentage of users proceeded to checkout, but did not purchase a t-shirt?\n"
   ]
  },
  {
   "cell_type": "code",
   "execution_count": 24,
   "id": "1d0719e4",
   "metadata": {},
   "outputs": [
    {
     "name": "stdout",
     "output_type": "stream",
     "text": [
      "0.24550898203592814\n",
      "0.25% of users proceeded to checkout, but did not purchase a t-shirt.\n"
     ]
    }
   ],
   "source": [
    "users_checkout = all_data[~all_data.checkout_time.isnull()]\n",
    "checkout_not_buy = all_data[(all_data.purchase_time.isnull()) & (~all_data.checkout_time.isnull())]\n",
    "\n",
    "checkout_not_buy_percentage = len(checkout_not_buy) / len(users_checkout)\n",
    "print(checkout_not_buy_percentage)\n",
    "print(f\"{round(checkout_not_buy_percentage, 2)}% of users proceeded to checkout, but did not purchase a t-shirt.\")\n",
    "\n"
   ]
  },
  {
   "cell_type": "markdown",
   "id": "05e746c8",
   "metadata": {},
   "source": [
    "task 9 - Which step of the funnel is weakest (i.e., has the highest percentage of users not completing it)?\n",
    "\n",
    "How might Cool T-Shirts Inc. change their website to fix this problem?"
   ]
  },
  {
   "cell_type": "code",
   "execution_count": 26,
   "id": "585e88e4",
   "metadata": {},
   "outputs": [
    {
     "name": "stdout",
     "output_type": "stream",
     "text": [
      "82.6% of users accessed but did not put any items in the cart.\n",
      "35.06% of users accessed, put some items in the cart but did not proceeded to checkout.\n",
      "24.55% of users accessed, put some items in the cart, proceeded to checkout but did not completed the purchase.\n"
     ]
    }
   ],
   "source": [
    "funnel_1 = round(visited_not_cart*100, 2)\n",
    "funnel_2 = round(cart_not_checkout_percentage*100, 2) \n",
    "funnel_3 = round(checkout_not_buy_percentage*100, 2)\n",
    "\n",
    "print(f\"{funnel_1}% of users accessed but did not put any items in the cart.\")\n",
    "print(f\"{funnel_2}% of users accessed, put some items in the cart but did not proceeded to checkout.\")\n",
    "print(f\"{funnel_3}% of users accessed, put some items in the cart, proceeded to checkout but did not completed the purchase.\") \n",
    "\n"
   ]
  },
  {
   "cell_type": "markdown",
   "id": "9b83d1c5",
   "metadata": {},
   "source": [
    "Answer: The weakest step is the first one, when the user accessed the store but did not put any items in the cart.\n",
    "Maybe the way to put items in the cart is not clearly enough to convince people to proceeded or the prices are not affordable.  "
   ]
  },
  {
   "cell_type": "markdown",
   "id": "9bb0eca7",
   "metadata": {},
   "source": [
    "Task 10 - Using the giant merged DataFrame all_data that you created, let’s calculate the average time from initial visit to final purchase. \n",
    "Add a column that is the difference between purchase_time and visit_time."
   ]
  },
  {
   "cell_type": "code",
   "execution_count": null,
   "id": "a57382af",
   "metadata": {},
   "outputs": [],
   "source": [
    "all_data['time_to_purchase'] = all_data.purchase_time - all_data.visit_time"
   ]
  },
  {
   "cell_type": "markdown",
   "id": "72112797",
   "metadata": {},
   "source": [
    "Task11 - Examine the results by printing the new column to the screen."
   ]
  },
  {
   "cell_type": "code",
   "execution_count": 31,
   "id": "d76bf99a",
   "metadata": {},
   "outputs": [
    {
     "name": "stdout",
     "output_type": "stream",
     "text": [
      "                                   user_id          visit_time  \\\n",
      "1     0c3a3dd0-fb64-4eac-bf84-ba069ce409f2 2017-01-26 14:24:00   \n",
      "14    486480e2-98c3-4d51-8f4b-b1c07228ce84 2017-01-27 16:34:00   \n",
      "48    3ccdaf69-2d30-40de-b083-51372881aedd 2017-01-08 20:21:00   \n",
      "49    3ccdaf69-2d30-40de-b083-51372881aedd 2017-01-08 20:21:00   \n",
      "65    ab0125fc-9493-4f59-ad70-24ad264a3a0c 2017-11-18 03:21:00   \n",
      "...                                    ...                 ...   \n",
      "2083  d2cb350b-2201-4290-b2e0-84a8bf0d6883 2017-08-08 16:05:00   \n",
      "2093  f46c88d0-2441-40a8-97fe-6841ff6f050d 2017-09-06 08:42:00   \n",
      "2097  f783c680-1d9a-437d-9f45-7827299b78fa 2017-06-25 08:07:00   \n",
      "2098  f783c680-1d9a-437d-9f45-7827299b78fa 2017-06-25 08:07:00   \n",
      "2099  f783c680-1d9a-437d-9f45-7827299b78fa 2017-06-25 08:07:00   \n",
      "\n",
      "               cart_time       checkout_time       purchase_time  \\\n",
      "1    2017-01-26 14:44:00 2017-01-26 14:54:00 2017-01-26 15:08:00   \n",
      "14   2017-01-27 16:44:00 2017-01-27 17:10:00 2017-01-27 17:12:00   \n",
      "48   2017-01-08 20:38:00 2017-01-08 20:52:00 2017-01-08 21:02:00   \n",
      "49   2017-01-08 20:38:00 2017-01-08 20:52:00 2017-01-08 21:21:00   \n",
      "65   2017-11-18 03:33:00 2017-11-18 03:57:00 2017-11-18 04:21:00   \n",
      "...                  ...                 ...                 ...   \n",
      "2083 2017-08-08 16:07:00 2017-08-08 16:34:00 2017-08-08 16:34:00   \n",
      "2093 2017-09-06 09:02:00 2017-09-06 09:22:00 2017-09-06 09:28:00   \n",
      "2097 2017-06-25 08:08:00 2017-06-25 08:28:00 2017-06-25 08:39:00   \n",
      "2098 2017-06-25 08:08:00 2017-06-25 08:28:00 2017-06-25 08:35:00   \n",
      "2099 2017-06-25 08:08:00 2017-06-25 08:28:00 2017-06-25 08:18:00   \n",
      "\n",
      "     time_to_purchase  \n",
      "1     0 days 00:44:00  \n",
      "14    0 days 00:38:00  \n",
      "48    0 days 00:41:00  \n",
      "49    0 days 01:00:00  \n",
      "65    0 days 01:00:00  \n",
      "...               ...  \n",
      "2083  0 days 00:29:00  \n",
      "2093  0 days 00:46:00  \n",
      "2097  0 days 00:32:00  \n",
      "2098  0 days 00:28:00  \n",
      "2099  0 days 00:11:00  \n",
      "\n",
      "[252 rows x 6 columns]\n"
     ]
    }
   ],
   "source": [
    "print(all_data[~all_data.time_to_purchase.isnull()])"
   ]
  },
  {
   "cell_type": "markdown",
   "id": "d6b7abbb",
   "metadata": {},
   "source": [
    "Task 12 - Calculate the average time to purchase by applying the .mean() function to your new column."
   ]
  },
  {
   "cell_type": "code",
   "execution_count": 35,
   "id": "970beaa6",
   "metadata": {},
   "outputs": [
    {
     "name": "stdout",
     "output_type": "stream",
     "text": [
      "The average time to purchase is 0 days 00:43:12.380952380\n"
     ]
    }
   ],
   "source": [
    "average_time_to_purchase = all_data.time_to_purchase.mean()\n",
    "print(f\"The average time to purchase is {average_time_to_purchase}\")"
   ]
  }
 ],
 "metadata": {
  "kernelspec": {
   "display_name": "Python 3 (ipykernel)",
   "language": "python",
   "name": "python3"
  },
  "language_info": {
   "codemirror_mode": {
    "name": "ipython",
    "version": 3
   },
   "file_extension": ".py",
   "mimetype": "text/x-python",
   "name": "python",
   "nbconvert_exporter": "python",
   "pygments_lexer": "ipython3",
   "version": "3.10.9"
  }
 },
 "nbformat": 4,
 "nbformat_minor": 5
}
